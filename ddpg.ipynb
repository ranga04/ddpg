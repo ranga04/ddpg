{
  "nbformat": 4,
  "nbformat_minor": 0,
  "metadata": {
    "colab": {
      "provenance": [],
      "gpuType": "T4"
    },
    "kernelspec": {
      "name": "python3",
      "display_name": "Python 3"
    },
    "language_info": {
      "name": "python"
    },
    "accelerator": "GPU"
  },
  "cells": [
    {
      "cell_type": "code",
      "execution_count": 5,
      "metadata": {
        "colab": {
          "base_uri": "https://localhost:8080/"
        },
        "id": "QB6kugX5t54c",
        "outputId": "3b55bacc-9283-4dff-ba7f-46113a31d18c"
      },
      "outputs": [
        {
          "output_type": "stream",
          "name": "stdout",
          "text": [
            "State size: 3\n",
            "Action size: 1\n"
          ]
        }
      ],
      "source": [
        "# Import libraries\n",
        "import gym\n",
        "import numpy as np\n",
        "import tensorflow as tf\n",
        "from tensorflow.keras import layers\n",
        "import matplotlib.pyplot as plt\n",
        "\n",
        "# Create the Pendulum environment (continuous control) with updated render mode and step API\n",
        "env = gym.make(\"Pendulum-v1\", render_mode=\"human\", new_step_api=True)\n",
        "\n",
        "# Set random seed for reproducibility using the new API\n",
        "state = env.reset(seed=42)\n",
        "\n",
        "# Get the environment's state and action space\n",
        "state_size = env.observation_space.shape[0]\n",
        "action_size = env.action_space.shape[0]\n",
        "\n",
        "# Display state and action space\n",
        "print(f\"State size: {state_size}\")\n",
        "print(f\"Action size: {action_size}\")\n",
        "\n",
        "# Test the environment with random actions\n",
        "for _ in range(100):\n",
        "    action = env.action_space.sample()  # Take random actions\n",
        "    state, reward, done, _, _ = env.step(action)  # Update to the new API for the step function\n",
        "    env.render()  # Visualize the environment\n",
        "    if done:\n",
        "        state = env.reset()\n",
        "\n",
        "env.close()\n"
      ]
    },
    {
      "cell_type": "code",
      "source": [
        "# Define the Actor network\n",
        "def create_actor(state_size, action_size):\n",
        "    inputs = layers.Input(shape=(state_size,))\n",
        "    out = layers.Dense(256, activation=\"relu\")(inputs)\n",
        "    out = layers.Dense(256, activation=\"relu\")(out)\n",
        "    outputs = layers.Dense(action_size, activation=\"tanh\")(out)  # Continuous actions, scaled between -1 and 1\n",
        "    model = tf.keras.Model(inputs, outputs)\n",
        "    return model\n",
        "\n",
        "# Define the Critic network (takes both state and action as input)\n",
        "def create_critic(state_size, action_size):\n",
        "    state_inputs = layers.Input(shape=(state_size,))\n",
        "    action_inputs = layers.Input(shape=(action_size,))\n",
        "\n",
        "    concat = layers.Concatenate()([state_inputs, action_inputs])\n",
        "\n",
        "    out = layers.Dense(256, activation=\"relu\")(concat)\n",
        "    out = layers.Dense(256, activation=\"relu\")(out)\n",
        "    outputs = layers.Dense(1)(out)  # Single scalar output (Q-value)\n",
        "\n",
        "    model = tf.keras.Model([state_inputs, action_inputs], outputs)\n",
        "    return model\n",
        "\n",
        "# Create the actor and critic models\n",
        "actor_model = create_actor(state_size, action_size)\n",
        "critic_model = create_critic(state_size, action_size)\n",
        "\n",
        "# Display model summaries\n",
        "actor_model.summary()\n",
        "critic_model.summary()\n"
      ],
      "metadata": {
        "colab": {
          "base_uri": "https://localhost:8080/",
          "height": 609
        },
        "id": "v44qh2L2vZnm",
        "outputId": "b251f9b3-82a2-4f5f-993d-300b11916188"
      },
      "execution_count": 6,
      "outputs": [
        {
          "output_type": "display_data",
          "data": {
            "text/plain": [
              "\u001b[1mModel: \"functional\"\u001b[0m\n"
            ],
            "text/html": [
              "<pre style=\"white-space:pre;overflow-x:auto;line-height:normal;font-family:Menlo,'DejaVu Sans Mono',consolas,'Courier New',monospace\"><span style=\"font-weight: bold\">Model: \"functional\"</span>\n",
              "</pre>\n"
            ]
          },
          "metadata": {}
        },
        {
          "output_type": "display_data",
          "data": {
            "text/plain": [
              "┏━━━━━━━━━━━━━━━━━━━━━━━━━━━━━━━━━━━━━━┳━━━━━━━━━━━━━━━━━━━━━━━━━━━━━┳━━━━━━━━━━━━━━━━━┓\n",
              "┃\u001b[1m \u001b[0m\u001b[1mLayer (type)                        \u001b[0m\u001b[1m \u001b[0m┃\u001b[1m \u001b[0m\u001b[1mOutput Shape               \u001b[0m\u001b[1m \u001b[0m┃\u001b[1m \u001b[0m\u001b[1m        Param #\u001b[0m\u001b[1m \u001b[0m┃\n",
              "┡━━━━━━━━━━━━━━━━━━━━━━━━━━━━━━━━━━━━━━╇━━━━━━━━━━━━━━━━━━━━━━━━━━━━━╇━━━━━━━━━━━━━━━━━┩\n",
              "│ input_layer (\u001b[38;5;33mInputLayer\u001b[0m)             │ (\u001b[38;5;45mNone\u001b[0m, \u001b[38;5;34m3\u001b[0m)                   │               \u001b[38;5;34m0\u001b[0m │\n",
              "├──────────────────────────────────────┼─────────────────────────────┼─────────────────┤\n",
              "│ dense (\u001b[38;5;33mDense\u001b[0m)                        │ (\u001b[38;5;45mNone\u001b[0m, \u001b[38;5;34m256\u001b[0m)                 │           \u001b[38;5;34m1,024\u001b[0m │\n",
              "├──────────────────────────────────────┼─────────────────────────────┼─────────────────┤\n",
              "│ dense_1 (\u001b[38;5;33mDense\u001b[0m)                      │ (\u001b[38;5;45mNone\u001b[0m, \u001b[38;5;34m256\u001b[0m)                 │          \u001b[38;5;34m65,792\u001b[0m │\n",
              "├──────────────────────────────────────┼─────────────────────────────┼─────────────────┤\n",
              "│ dense_2 (\u001b[38;5;33mDense\u001b[0m)                      │ (\u001b[38;5;45mNone\u001b[0m, \u001b[38;5;34m1\u001b[0m)                   │             \u001b[38;5;34m257\u001b[0m │\n",
              "└──────────────────────────────────────┴─────────────────────────────┴─────────────────┘\n"
            ],
            "text/html": [
              "<pre style=\"white-space:pre;overflow-x:auto;line-height:normal;font-family:Menlo,'DejaVu Sans Mono',consolas,'Courier New',monospace\">┏━━━━━━━━━━━━━━━━━━━━━━━━━━━━━━━━━━━━━━┳━━━━━━━━━━━━━━━━━━━━━━━━━━━━━┳━━━━━━━━━━━━━━━━━┓\n",
              "┃<span style=\"font-weight: bold\"> Layer (type)                         </span>┃<span style=\"font-weight: bold\"> Output Shape                </span>┃<span style=\"font-weight: bold\">         Param # </span>┃\n",
              "┡━━━━━━━━━━━━━━━━━━━━━━━━━━━━━━━━━━━━━━╇━━━━━━━━━━━━━━━━━━━━━━━━━━━━━╇━━━━━━━━━━━━━━━━━┩\n",
              "│ input_layer (<span style=\"color: #0087ff; text-decoration-color: #0087ff\">InputLayer</span>)             │ (<span style=\"color: #00d7ff; text-decoration-color: #00d7ff\">None</span>, <span style=\"color: #00af00; text-decoration-color: #00af00\">3</span>)                   │               <span style=\"color: #00af00; text-decoration-color: #00af00\">0</span> │\n",
              "├──────────────────────────────────────┼─────────────────────────────┼─────────────────┤\n",
              "│ dense (<span style=\"color: #0087ff; text-decoration-color: #0087ff\">Dense</span>)                        │ (<span style=\"color: #00d7ff; text-decoration-color: #00d7ff\">None</span>, <span style=\"color: #00af00; text-decoration-color: #00af00\">256</span>)                 │           <span style=\"color: #00af00; text-decoration-color: #00af00\">1,024</span> │\n",
              "├──────────────────────────────────────┼─────────────────────────────┼─────────────────┤\n",
              "│ dense_1 (<span style=\"color: #0087ff; text-decoration-color: #0087ff\">Dense</span>)                      │ (<span style=\"color: #00d7ff; text-decoration-color: #00d7ff\">None</span>, <span style=\"color: #00af00; text-decoration-color: #00af00\">256</span>)                 │          <span style=\"color: #00af00; text-decoration-color: #00af00\">65,792</span> │\n",
              "├──────────────────────────────────────┼─────────────────────────────┼─────────────────┤\n",
              "│ dense_2 (<span style=\"color: #0087ff; text-decoration-color: #0087ff\">Dense</span>)                      │ (<span style=\"color: #00d7ff; text-decoration-color: #00d7ff\">None</span>, <span style=\"color: #00af00; text-decoration-color: #00af00\">1</span>)                   │             <span style=\"color: #00af00; text-decoration-color: #00af00\">257</span> │\n",
              "└──────────────────────────────────────┴─────────────────────────────┴─────────────────┘\n",
              "</pre>\n"
            ]
          },
          "metadata": {}
        },
        {
          "output_type": "display_data",
          "data": {
            "text/plain": [
              "\u001b[1m Total params: \u001b[0m\u001b[38;5;34m67,073\u001b[0m (262.00 KB)\n"
            ],
            "text/html": [
              "<pre style=\"white-space:pre;overflow-x:auto;line-height:normal;font-family:Menlo,'DejaVu Sans Mono',consolas,'Courier New',monospace\"><span style=\"font-weight: bold\"> Total params: </span><span style=\"color: #00af00; text-decoration-color: #00af00\">67,073</span> (262.00 KB)\n",
              "</pre>\n"
            ]
          },
          "metadata": {}
        },
        {
          "output_type": "display_data",
          "data": {
            "text/plain": [
              "\u001b[1m Trainable params: \u001b[0m\u001b[38;5;34m67,073\u001b[0m (262.00 KB)\n"
            ],
            "text/html": [
              "<pre style=\"white-space:pre;overflow-x:auto;line-height:normal;font-family:Menlo,'DejaVu Sans Mono',consolas,'Courier New',monospace\"><span style=\"font-weight: bold\"> Trainable params: </span><span style=\"color: #00af00; text-decoration-color: #00af00\">67,073</span> (262.00 KB)\n",
              "</pre>\n"
            ]
          },
          "metadata": {}
        },
        {
          "output_type": "display_data",
          "data": {
            "text/plain": [
              "\u001b[1m Non-trainable params: \u001b[0m\u001b[38;5;34m0\u001b[0m (0.00 B)\n"
            ],
            "text/html": [
              "<pre style=\"white-space:pre;overflow-x:auto;line-height:normal;font-family:Menlo,'DejaVu Sans Mono',consolas,'Courier New',monospace\"><span style=\"font-weight: bold\"> Non-trainable params: </span><span style=\"color: #00af00; text-decoration-color: #00af00\">0</span> (0.00 B)\n",
              "</pre>\n"
            ]
          },
          "metadata": {}
        },
        {
          "output_type": "display_data",
          "data": {
            "text/plain": [
              "\u001b[1mModel: \"functional_1\"\u001b[0m\n"
            ],
            "text/html": [
              "<pre style=\"white-space:pre;overflow-x:auto;line-height:normal;font-family:Menlo,'DejaVu Sans Mono',consolas,'Courier New',monospace\"><span style=\"font-weight: bold\">Model: \"functional_1\"</span>\n",
              "</pre>\n"
            ]
          },
          "metadata": {}
        },
        {
          "output_type": "display_data",
          "data": {
            "text/plain": [
              "┏━━━━━━━━━━━━━━━━━━━━━━━━━━━┳━━━━━━━━━━━━━━━━━━━━━━━━┳━━━━━━━━━━━━━━━━┳━━━━━━━━━━━━━━━━━━━━━━━━┓\n",
              "┃\u001b[1m \u001b[0m\u001b[1mLayer (type)             \u001b[0m\u001b[1m \u001b[0m┃\u001b[1m \u001b[0m\u001b[1mOutput Shape          \u001b[0m\u001b[1m \u001b[0m┃\u001b[1m \u001b[0m\u001b[1m       Param #\u001b[0m\u001b[1m \u001b[0m┃\u001b[1m \u001b[0m\u001b[1mConnected to          \u001b[0m\u001b[1m \u001b[0m┃\n",
              "┡━━━━━━━━━━━━━━━━━━━━━━━━━━━╇━━━━━━━━━━━━━━━━━━━━━━━━╇━━━━━━━━━━━━━━━━╇━━━━━━━━━━━━━━━━━━━━━━━━┩\n",
              "│ input_layer_1             │ (\u001b[38;5;45mNone\u001b[0m, \u001b[38;5;34m3\u001b[0m)              │              \u001b[38;5;34m0\u001b[0m │ -                      │\n",
              "│ (\u001b[38;5;33mInputLayer\u001b[0m)              │                        │                │                        │\n",
              "├───────────────────────────┼────────────────────────┼────────────────┼────────────────────────┤\n",
              "│ input_layer_2             │ (\u001b[38;5;45mNone\u001b[0m, \u001b[38;5;34m1\u001b[0m)              │              \u001b[38;5;34m0\u001b[0m │ -                      │\n",
              "│ (\u001b[38;5;33mInputLayer\u001b[0m)              │                        │                │                        │\n",
              "├───────────────────────────┼────────────────────────┼────────────────┼────────────────────────┤\n",
              "│ concatenate (\u001b[38;5;33mConcatenate\u001b[0m) │ (\u001b[38;5;45mNone\u001b[0m, \u001b[38;5;34m4\u001b[0m)              │              \u001b[38;5;34m0\u001b[0m │ input_layer_1[\u001b[38;5;34m0\u001b[0m][\u001b[38;5;34m0\u001b[0m],   │\n",
              "│                           │                        │                │ input_layer_2[\u001b[38;5;34m0\u001b[0m][\u001b[38;5;34m0\u001b[0m]    │\n",
              "├───────────────────────────┼────────────────────────┼────────────────┼────────────────────────┤\n",
              "│ dense_3 (\u001b[38;5;33mDense\u001b[0m)           │ (\u001b[38;5;45mNone\u001b[0m, \u001b[38;5;34m256\u001b[0m)            │          \u001b[38;5;34m1,280\u001b[0m │ concatenate[\u001b[38;5;34m0\u001b[0m][\u001b[38;5;34m0\u001b[0m]      │\n",
              "├───────────────────────────┼────────────────────────┼────────────────┼────────────────────────┤\n",
              "│ dense_4 (\u001b[38;5;33mDense\u001b[0m)           │ (\u001b[38;5;45mNone\u001b[0m, \u001b[38;5;34m256\u001b[0m)            │         \u001b[38;5;34m65,792\u001b[0m │ dense_3[\u001b[38;5;34m0\u001b[0m][\u001b[38;5;34m0\u001b[0m]          │\n",
              "├───────────────────────────┼────────────────────────┼────────────────┼────────────────────────┤\n",
              "│ dense_5 (\u001b[38;5;33mDense\u001b[0m)           │ (\u001b[38;5;45mNone\u001b[0m, \u001b[38;5;34m1\u001b[0m)              │            \u001b[38;5;34m257\u001b[0m │ dense_4[\u001b[38;5;34m0\u001b[0m][\u001b[38;5;34m0\u001b[0m]          │\n",
              "└───────────────────────────┴────────────────────────┴────────────────┴────────────────────────┘\n"
            ],
            "text/html": [
              "<pre style=\"white-space:pre;overflow-x:auto;line-height:normal;font-family:Menlo,'DejaVu Sans Mono',consolas,'Courier New',monospace\">┏━━━━━━━━━━━━━━━━━━━━━━━━━━━┳━━━━━━━━━━━━━━━━━━━━━━━━┳━━━━━━━━━━━━━━━━┳━━━━━━━━━━━━━━━━━━━━━━━━┓\n",
              "┃<span style=\"font-weight: bold\"> Layer (type)              </span>┃<span style=\"font-weight: bold\"> Output Shape           </span>┃<span style=\"font-weight: bold\">        Param # </span>┃<span style=\"font-weight: bold\"> Connected to           </span>┃\n",
              "┡━━━━━━━━━━━━━━━━━━━━━━━━━━━╇━━━━━━━━━━━━━━━━━━━━━━━━╇━━━━━━━━━━━━━━━━╇━━━━━━━━━━━━━━━━━━━━━━━━┩\n",
              "│ input_layer_1             │ (<span style=\"color: #00d7ff; text-decoration-color: #00d7ff\">None</span>, <span style=\"color: #00af00; text-decoration-color: #00af00\">3</span>)              │              <span style=\"color: #00af00; text-decoration-color: #00af00\">0</span> │ -                      │\n",
              "│ (<span style=\"color: #0087ff; text-decoration-color: #0087ff\">InputLayer</span>)              │                        │                │                        │\n",
              "├───────────────────────────┼────────────────────────┼────────────────┼────────────────────────┤\n",
              "│ input_layer_2             │ (<span style=\"color: #00d7ff; text-decoration-color: #00d7ff\">None</span>, <span style=\"color: #00af00; text-decoration-color: #00af00\">1</span>)              │              <span style=\"color: #00af00; text-decoration-color: #00af00\">0</span> │ -                      │\n",
              "│ (<span style=\"color: #0087ff; text-decoration-color: #0087ff\">InputLayer</span>)              │                        │                │                        │\n",
              "├───────────────────────────┼────────────────────────┼────────────────┼────────────────────────┤\n",
              "│ concatenate (<span style=\"color: #0087ff; text-decoration-color: #0087ff\">Concatenate</span>) │ (<span style=\"color: #00d7ff; text-decoration-color: #00d7ff\">None</span>, <span style=\"color: #00af00; text-decoration-color: #00af00\">4</span>)              │              <span style=\"color: #00af00; text-decoration-color: #00af00\">0</span> │ input_layer_1[<span style=\"color: #00af00; text-decoration-color: #00af00\">0</span>][<span style=\"color: #00af00; text-decoration-color: #00af00\">0</span>],   │\n",
              "│                           │                        │                │ input_layer_2[<span style=\"color: #00af00; text-decoration-color: #00af00\">0</span>][<span style=\"color: #00af00; text-decoration-color: #00af00\">0</span>]    │\n",
              "├───────────────────────────┼────────────────────────┼────────────────┼────────────────────────┤\n",
              "│ dense_3 (<span style=\"color: #0087ff; text-decoration-color: #0087ff\">Dense</span>)           │ (<span style=\"color: #00d7ff; text-decoration-color: #00d7ff\">None</span>, <span style=\"color: #00af00; text-decoration-color: #00af00\">256</span>)            │          <span style=\"color: #00af00; text-decoration-color: #00af00\">1,280</span> │ concatenate[<span style=\"color: #00af00; text-decoration-color: #00af00\">0</span>][<span style=\"color: #00af00; text-decoration-color: #00af00\">0</span>]      │\n",
              "├───────────────────────────┼────────────────────────┼────────────────┼────────────────────────┤\n",
              "│ dense_4 (<span style=\"color: #0087ff; text-decoration-color: #0087ff\">Dense</span>)           │ (<span style=\"color: #00d7ff; text-decoration-color: #00d7ff\">None</span>, <span style=\"color: #00af00; text-decoration-color: #00af00\">256</span>)            │         <span style=\"color: #00af00; text-decoration-color: #00af00\">65,792</span> │ dense_3[<span style=\"color: #00af00; text-decoration-color: #00af00\">0</span>][<span style=\"color: #00af00; text-decoration-color: #00af00\">0</span>]          │\n",
              "├───────────────────────────┼────────────────────────┼────────────────┼────────────────────────┤\n",
              "│ dense_5 (<span style=\"color: #0087ff; text-decoration-color: #0087ff\">Dense</span>)           │ (<span style=\"color: #00d7ff; text-decoration-color: #00d7ff\">None</span>, <span style=\"color: #00af00; text-decoration-color: #00af00\">1</span>)              │            <span style=\"color: #00af00; text-decoration-color: #00af00\">257</span> │ dense_4[<span style=\"color: #00af00; text-decoration-color: #00af00\">0</span>][<span style=\"color: #00af00; text-decoration-color: #00af00\">0</span>]          │\n",
              "└───────────────────────────┴────────────────────────┴────────────────┴────────────────────────┘\n",
              "</pre>\n"
            ]
          },
          "metadata": {}
        },
        {
          "output_type": "display_data",
          "data": {
            "text/plain": [
              "\u001b[1m Total params: \u001b[0m\u001b[38;5;34m67,329\u001b[0m (263.00 KB)\n"
            ],
            "text/html": [
              "<pre style=\"white-space:pre;overflow-x:auto;line-height:normal;font-family:Menlo,'DejaVu Sans Mono',consolas,'Courier New',monospace\"><span style=\"font-weight: bold\"> Total params: </span><span style=\"color: #00af00; text-decoration-color: #00af00\">67,329</span> (263.00 KB)\n",
              "</pre>\n"
            ]
          },
          "metadata": {}
        },
        {
          "output_type": "display_data",
          "data": {
            "text/plain": [
              "\u001b[1m Trainable params: \u001b[0m\u001b[38;5;34m67,329\u001b[0m (263.00 KB)\n"
            ],
            "text/html": [
              "<pre style=\"white-space:pre;overflow-x:auto;line-height:normal;font-family:Menlo,'DejaVu Sans Mono',consolas,'Courier New',monospace\"><span style=\"font-weight: bold\"> Trainable params: </span><span style=\"color: #00af00; text-decoration-color: #00af00\">67,329</span> (263.00 KB)\n",
              "</pre>\n"
            ]
          },
          "metadata": {}
        },
        {
          "output_type": "display_data",
          "data": {
            "text/plain": [
              "\u001b[1m Non-trainable params: \u001b[0m\u001b[38;5;34m0\u001b[0m (0.00 B)\n"
            ],
            "text/html": [
              "<pre style=\"white-space:pre;overflow-x:auto;line-height:normal;font-family:Menlo,'DejaVu Sans Mono',consolas,'Courier New',monospace\"><span style=\"font-weight: bold\"> Non-trainable params: </span><span style=\"color: #00af00; text-decoration-color: #00af00\">0</span> (0.00 B)\n",
              "</pre>\n"
            ]
          },
          "metadata": {}
        }
      ]
    },
    {
      "cell_type": "code",
      "source": [
        "# Define the Replay Buffer class\n",
        "class ReplayBuffer:\n",
        "    def __init__(self, buffer_capacity=100000, batch_size=64):\n",
        "        self.buffer_capacity = buffer_capacity\n",
        "        self.batch_size = batch_size\n",
        "        self.buffer_counter = 0\n",
        "\n",
        "        # Create buffer to hold states, actions, rewards, next states, and done flags\n",
        "        self.state_buffer = np.zeros((self.buffer_capacity, state_size))\n",
        "        self.action_buffer = np.zeros((self.buffer_capacity, action_size))\n",
        "        self.reward_buffer = np.zeros((self.buffer_capacity, 1))\n",
        "        self.next_state_buffer = np.zeros((self.buffer_capacity, state_size))\n",
        "        self.done_buffer = np.zeros((self.buffer_capacity, 1))\n",
        "\n",
        "    # Store experiences in the replay buffer\n",
        "    def store(self, state, action, reward, next_state, done):\n",
        "        index = self.buffer_counter % self.buffer_capacity\n",
        "\n",
        "        self.state_buffer[index] = state\n",
        "        self.action_buffer[index] = action\n",
        "        self.reward_buffer[index] = reward\n",
        "        self.next_state_buffer[index] = next_state\n",
        "        self.done_buffer[index] = done\n",
        "\n",
        "        self.buffer_counter += 1\n",
        "\n",
        "    # Sample a batch of experiences from the replay buffer\n",
        "    def sample_batch(self):\n",
        "        max_buffer = min(self.buffer_counter, self.buffer_capacity)\n",
        "        batch_indices = np.random.choice(max_buffer, self.batch_size)\n",
        "\n",
        "        states = self.state_buffer[batch_indices]\n",
        "        actions = self.action_buffer[batch_indices]\n",
        "        rewards = self.reward_buffer[batch_indices]\n",
        "        next_states = self.next_state_buffer[batch_indices]\n",
        "        dones = self.done_buffer[batch_indices]\n",
        "\n",
        "        return states, actions, rewards, next_states, dones\n"
      ],
      "metadata": {
        "id": "7gm2SxTBv2LI"
      },
      "execution_count": 7,
      "outputs": []
    },
    {
      "cell_type": "code",
      "source": [
        "class DDPGAgent:\n",
        "    def __init__(self, actor_model, critic_model, target_actor, target_critic, replay_buffer):\n",
        "        self.actor_model = actor_model\n",
        "        self.critic_model = critic_model\n",
        "        self.target_actor = target_actor\n",
        "        self.target_critic = target_critic\n",
        "        self.replay_buffer = replay_buffer\n",
        "\n",
        "        # Hyperparameters\n",
        "        self.gamma = 0.99  # Discount factor\n",
        "        self.tau = 0.005   # Soft update parameter\n",
        "\n",
        "        # Optimizers\n",
        "        self.actor_optimizer = tf.keras.optimizers.Adam(learning_rate=0.001)\n",
        "        self.critic_optimizer = tf.keras.optimizers.Adam(learning_rate=0.002)\n",
        "\n",
        "    def update_target_network(self, target_weights, model_weights):\n",
        "        \"\"\"Soft update for the target networks\"\"\"\n",
        "        for (target_weight, model_weight) in zip(target_weights, model_weights):\n",
        "            target_weight.assign(self.tau * model_weight + (1 - self.tau) * target_weight)\n",
        "\n",
        "    def policy(self, state):\n",
        "        \"\"\"Select action based on the actor network and add noise for exploration\"\"\"\n",
        "        state = np.expand_dims(state, axis=0)\n",
        "        action = self.actor_model(state)\n",
        "        return tf.squeeze(action).numpy()\n",
        "\n",
        "    def train(self):\n",
        "        # Sample a batch of experiences from the replay buffer\n",
        "        states, actions, rewards, next_states, dones = self.replay_buffer.sample_batch()\n",
        "\n",
        "        # Convert to tensors\n",
        "        states = tf.convert_to_tensor(states, dtype=tf.float32)\n",
        "        actions = tf.convert_to_tensor(actions, dtype=tf.float32)\n",
        "        rewards = tf.convert_to_tensor(rewards, dtype=tf.float32)\n",
        "        next_states = tf.convert_to_tensor(next_states, dtype=tf.float32)\n",
        "        dones = tf.convert_to_tensor(dones, dtype=tf.float32)\n",
        "\n",
        "        # Update Critic network\n",
        "        with tf.GradientTape() as tape:\n",
        "            target_actions = self.target_actor(next_states)\n",
        "            target_q = self.target_critic([next_states, target_actions])\n",
        "            y = rewards + self.gamma * target_q * (1 - dones)\n",
        "            critic_value = self.critic_model([states, actions])\n",
        "            critic_loss = tf.math.reduce_mean(tf.math.square(y - critic_value))\n",
        "\n",
        "        critic_grad = tape.gradient(critic_loss, self.critic_model.trainable_variables)\n",
        "        self.critic_optimizer.apply_gradients(zip(critic_grad, self.critic_model.trainable_variables))\n",
        "\n",
        "        # Update Actor network\n",
        "        with tf.GradientTape() as tape:\n",
        "            actions = self.actor_model(states)\n",
        "            critic_value = self.critic_model([states, actions])\n",
        "            actor_loss = -tf.math.reduce_mean(critic_value)  # Maximize Q-value\n",
        "\n",
        "        actor_grad = tape.gradient(actor_loss, self.actor_model.trainable_variables)\n",
        "        self.actor_optimizer.apply_gradients(zip(actor_grad, self.actor_model.trainable_variables))\n",
        "\n",
        "        # Update the target networks\n",
        "        self.update_target_network(self.target_actor.variables, self.actor_model.variables)\n",
        "        self.update_target_network(self.target_critic.variables, self.critic_model.variables)\n"
      ],
      "metadata": {
        "id": "HUDS-tWIv6Up"
      },
      "execution_count": 8,
      "outputs": []
    },
    {
      "cell_type": "code",
      "source": [
        "# Main training loop without rendering\n",
        "for episode in range(num_episodes):\n",
        "    state = env.reset()  # Reset the environment for each episode\n",
        "    episode_reward = 0\n",
        "    done = False\n",
        "\n",
        "    while not done:\n",
        "        # Select action using the policy (add noise for exploration)\n",
        "        action = agent.policy(state)\n",
        "\n",
        "        # Ensure the action is a scalar (Pendulum expects scalar action)\n",
        "        action = np.clip(action, env.action_space.low, env.action_space.high)\n",
        "\n",
        "        # Take action in the environment (without rendering)\n",
        "        next_state, reward, done, _ = env.step([action])  # Pass action as list\n",
        "\n",
        "        # Ensure state and next_state are correctly reshaped\n",
        "        state = np.reshape(state, (state_size,))\n",
        "        next_state = np.reshape(next_state, (state_size,))\n",
        "\n",
        "        # Store experience in the replay buffer\n",
        "        agent.replay_buffer.store(state, action, reward, next_state, done)\n",
        "\n",
        "        # Update the agent (sample experiences and train)\n",
        "        agent.train()\n",
        "\n",
        "        # Update state and accumulate reward\n",
        "        state = next_state\n",
        "        episode_reward += reward\n",
        "\n",
        "    # Store total reward for this episode\n",
        "    episode_rewards.append(episode_reward)\n",
        "\n",
        "    print(f\"Episode {episode + 1}/{num_episodes}, Total Reward: {episode_reward}\")\n",
        "\n",
        "# Plot the reward curve\n",
        "plt.plot(episode_rewards)\n",
        "plt.xlabel(\"Episode\")\n",
        "plt.ylabel(\"Total Reward\")\n",
        "plt.title(\"DDPG Training: Reward per Episode\")\n",
        "plt.show()\n"
      ],
      "metadata": {
        "colab": {
          "base_uri": "https://localhost:8080/",
          "height": 1000
        },
        "id": "AUPUGBVHwY2f",
        "outputId": "5b5e845c-8bc4-4c6e-8bac-7dd3feb1a1fb"
      },
      "execution_count": 13,
      "outputs": [
        {
          "output_type": "stream",
          "name": "stdout",
          "text": [
            "Episode 1/200, Total Reward: [-1223.4021]\n",
            "Episode 2/200, Total Reward: [-1395.3376]\n",
            "Episode 3/200, Total Reward: [-1509.7599]\n",
            "Episode 4/200, Total Reward: [-1744.978]\n",
            "Episode 5/200, Total Reward: [-1373.2528]\n",
            "Episode 6/200, Total Reward: [-1533.8694]\n",
            "Episode 7/200, Total Reward: [-1292.6173]\n",
            "Episode 8/200, Total Reward: [-1358.847]\n",
            "Episode 9/200, Total Reward: [-1490.0114]\n",
            "Episode 10/200, Total Reward: [-1110.162]\n",
            "Episode 11/200, Total Reward: [-1103.8949]\n",
            "Episode 12/200, Total Reward: [-1021.8694]\n",
            "Episode 13/200, Total Reward: [-1143.7216]\n",
            "Episode 14/200, Total Reward: [-765.75555]\n",
            "Episode 15/200, Total Reward: [-776.8922]\n",
            "Episode 16/200, Total Reward: [-975.9109]\n",
            "Episode 17/200, Total Reward: [-1032.3217]\n",
            "Episode 18/200, Total Reward: [-1137.7521]\n",
            "Episode 19/200, Total Reward: [-1036.3126]\n",
            "Episode 20/200, Total Reward: [-1051.5247]\n",
            "Episode 21/200, Total Reward: [-1202.8864]\n",
            "Episode 22/200, Total Reward: [-1135.5361]\n",
            "Episode 23/200, Total Reward: [-1106.7637]\n",
            "Episode 24/200, Total Reward: [-1065.0023]\n",
            "Episode 25/200, Total Reward: [-1070.312]\n",
            "Episode 26/200, Total Reward: [-1149.9481]\n",
            "Episode 27/200, Total Reward: [-1076.4454]\n",
            "Episode 28/200, Total Reward: [-1058.5428]\n",
            "Episode 29/200, Total Reward: [-1070.4147]\n",
            "Episode 30/200, Total Reward: [-1033.2407]\n",
            "Episode 31/200, Total Reward: [-908.8731]\n",
            "Episode 32/200, Total Reward: [-991.1566]\n",
            "Episode 33/200, Total Reward: [-775.07025]\n",
            "Episode 34/200, Total Reward: [-1541.9684]\n",
            "Episode 35/200, Total Reward: [-854.23315]\n",
            "Episode 36/200, Total Reward: [-930.58246]\n",
            "Episode 37/200, Total Reward: [-1007.2631]\n",
            "Episode 38/200, Total Reward: [-846.79486]\n",
            "Episode 39/200, Total Reward: [-760.5631]\n",
            "Episode 40/200, Total Reward: [-751.7284]\n",
            "Episode 41/200, Total Reward: [-629.39703]\n",
            "Episode 42/200, Total Reward: [-992.077]\n",
            "Episode 43/200, Total Reward: [-509.55984]\n",
            "Episode 44/200, Total Reward: [-1694.8735]\n",
            "Episode 45/200, Total Reward: [-620.1908]\n",
            "Episode 46/200, Total Reward: [-623.4961]\n",
            "Episode 47/200, Total Reward: [-1601.0538]\n",
            "Episode 48/200, Total Reward: [-621.7945]\n",
            "Episode 49/200, Total Reward: [-618.42993]\n",
            "Episode 50/200, Total Reward: [-857.8959]\n",
            "Episode 51/200, Total Reward: [-502.51398]\n",
            "Episode 52/200, Total Reward: [-613.471]\n",
            "Episode 53/200, Total Reward: [-619.7744]\n",
            "Episode 54/200, Total Reward: [-616.9861]\n",
            "Episode 55/200, Total Reward: [-867.7231]\n",
            "Episode 56/200, Total Reward: [-615.4248]\n",
            "Episode 57/200, Total Reward: [-624.1995]\n",
            "Episode 58/200, Total Reward: [-377.44095]\n",
            "Episode 59/200, Total Reward: [-600.9919]\n",
            "Episode 60/200, Total Reward: [-501.78128]\n",
            "Episode 61/200, Total Reward: [-370.7924]\n",
            "Episode 62/200, Total Reward: [-493.7438]\n",
            "Episode 63/200, Total Reward: [-376.62607]\n",
            "Episode 64/200, Total Reward: [-510.2046]\n",
            "Episode 65/200, Total Reward: [-374.34763]\n",
            "Episode 66/200, Total Reward: [-584.7115]\n",
            "Episode 67/200, Total Reward: [-482.09787]\n",
            "Episode 68/200, Total Reward: [-648.87085]\n",
            "Episode 69/200, Total Reward: [-126.23976]\n",
            "Episode 70/200, Total Reward: [-364.35654]\n",
            "Episode 71/200, Total Reward: [-250.16487]\n",
            "Episode 72/200, Total Reward: [-0.32665026]\n",
            "Episode 73/200, Total Reward: [-868.8732]\n",
            "Episode 74/200, Total Reward: [-801.498]\n",
            "Episode 75/200, Total Reward: [-124.87597]\n",
            "Episode 76/200, Total Reward: [-882.6134]\n",
            "Episode 77/200, Total Reward: [-355.95383]\n",
            "Episode 78/200, Total Reward: [-582.3304]\n",
            "Episode 79/200, Total Reward: [-126.4726]\n",
            "Episode 80/200, Total Reward: [-125.54753]\n",
            "Episode 81/200, Total Reward: [-236.98445]\n",
            "Episode 82/200, Total Reward: [-1.7248576]\n",
            "Episode 83/200, Total Reward: [-239.92696]\n",
            "Episode 84/200, Total Reward: [-2.4350152]\n",
            "Episode 85/200, Total Reward: [-246.82117]\n",
            "Episode 86/200, Total Reward: [-249.98729]\n",
            "Episode 87/200, Total Reward: [-480.19995]\n",
            "Episode 88/200, Total Reward: [-127.0065]\n",
            "Episode 89/200, Total Reward: [-479.7216]\n",
            "Episode 90/200, Total Reward: [-122.44933]\n",
            "Episode 91/200, Total Reward: [-246.18669]\n",
            "Episode 92/200, Total Reward: [-125.89472]\n",
            "Episode 93/200, Total Reward: [-125.72946]\n",
            "Episode 94/200, Total Reward: [-127.91885]\n",
            "Episode 95/200, Total Reward: [-249.72893]\n",
            "Episode 96/200, Total Reward: [-248.45679]\n",
            "Episode 97/200, Total Reward: [-535.0378]\n",
            "Episode 98/200, Total Reward: [-474.0181]\n",
            "Episode 99/200, Total Reward: [-350.1918]\n",
            "Episode 100/200, Total Reward: [-122.54967]\n",
            "Episode 101/200, Total Reward: [-244.91737]\n",
            "Episode 102/200, Total Reward: [-246.23997]\n",
            "Episode 103/200, Total Reward: [-376.48285]\n",
            "Episode 104/200, Total Reward: [-251.00972]\n",
            "Episode 105/200, Total Reward: [-367.6902]\n",
            "Episode 106/200, Total Reward: [-242.10239]\n",
            "Episode 107/200, Total Reward: [-583.45734]\n",
            "Episode 108/200, Total Reward: [-246.55428]\n",
            "Episode 109/200, Total Reward: [-602.3165]\n",
            "Episode 110/200, Total Reward: [-358.477]\n",
            "Episode 111/200, Total Reward: [-124.605484]\n",
            "Episode 112/200, Total Reward: [-122.12635]\n",
            "Episode 113/200, Total Reward: [-125.6831]\n",
            "Episode 114/200, Total Reward: [-126.50132]\n",
            "Episode 115/200, Total Reward: [-126.45282]\n",
            "Episode 116/200, Total Reward: [-127.41695]\n",
            "Episode 117/200, Total Reward: [-238.69745]\n",
            "Episode 118/200, Total Reward: [-126.16104]\n",
            "Episode 119/200, Total Reward: [-124.45239]\n",
            "Episode 120/200, Total Reward: [-722.16174]\n",
            "Episode 121/200, Total Reward: [-122.859344]\n",
            "Episode 122/200, Total Reward: [-473.69156]\n",
            "Episode 123/200, Total Reward: [-123.48129]\n",
            "Episode 124/200, Total Reward: [-237.91617]\n",
            "Episode 125/200, Total Reward: [-364.02386]\n",
            "Episode 126/200, Total Reward: [-119.37392]\n",
            "Episode 127/200, Total Reward: [-495.90656]\n",
            "Episode 128/200, Total Reward: [-121.8425]\n",
            "Episode 129/200, Total Reward: [-121.21002]\n",
            "Episode 130/200, Total Reward: [-367.30484]\n",
            "Episode 131/200, Total Reward: [-372.0575]\n",
            "Episode 132/200, Total Reward: [-503.3248]\n",
            "Episode 133/200, Total Reward: [-359.32672]\n",
            "Episode 134/200, Total Reward: [-124.76367]\n",
            "Episode 135/200, Total Reward: [-500.06778]\n",
            "Episode 136/200, Total Reward: [-361.03387]\n",
            "Episode 137/200, Total Reward: [-0.7756435]\n",
            "Episode 138/200, Total Reward: [-353.72086]\n",
            "Episode 139/200, Total Reward: [-122.747475]\n",
            "Episode 140/200, Total Reward: [-123.10296]\n",
            "Episode 141/200, Total Reward: [-121.922134]\n",
            "Episode 142/200, Total Reward: [-637.0204]\n",
            "Episode 143/200, Total Reward: [-351.95187]\n",
            "Episode 144/200, Total Reward: [-123.26718]\n",
            "Episode 145/200, Total Reward: [-127.01823]\n",
            "Episode 146/200, Total Reward: [-246.04166]\n",
            "Episode 147/200, Total Reward: [-121.25194]\n",
            "Episode 148/200, Total Reward: [-121.15705]\n",
            "Episode 149/200, Total Reward: [-123.91653]\n",
            "Episode 150/200, Total Reward: [-238.23549]\n",
            "Episode 151/200, Total Reward: [-118.79376]\n",
            "Episode 152/200, Total Reward: [-618.434]\n",
            "Episode 153/200, Total Reward: [-125.71102]\n",
            "Episode 154/200, Total Reward: [-120.36406]\n",
            "Episode 155/200, Total Reward: [-124.046135]\n",
            "Episode 156/200, Total Reward: [-123.390015]\n",
            "Episode 157/200, Total Reward: [-1.2908101]\n",
            "Episode 158/200, Total Reward: [-481.8845]\n",
            "Episode 159/200, Total Reward: [-232.81998]\n",
            "Episode 160/200, Total Reward: [-119.39858]\n",
            "Episode 161/200, Total Reward: [-124.46765]\n",
            "Episode 162/200, Total Reward: [-123.07811]\n",
            "Episode 163/200, Total Reward: [-241.89883]\n",
            "Episode 164/200, Total Reward: [-232.8765]\n",
            "Episode 165/200, Total Reward: [-122.0898]\n",
            "Episode 166/200, Total Reward: [-492.86563]\n",
            "Episode 167/200, Total Reward: [-124.91207]\n",
            "Episode 168/200, Total Reward: [-125.37193]\n",
            "Episode 169/200, Total Reward: [-242.41406]\n",
            "Episode 170/200, Total Reward: [-241.45088]\n",
            "Episode 171/200, Total Reward: [-492.62637]\n",
            "Episode 172/200, Total Reward: [-358.7583]\n",
            "Episode 173/200, Total Reward: [-359.9193]\n",
            "Episode 174/200, Total Reward: [-350.122]\n",
            "Episode 175/200, Total Reward: [-123.03826]\n",
            "Episode 176/200, Total Reward: [-127.08636]\n",
            "Episode 177/200, Total Reward: [-3.1380637]\n",
            "Episode 178/200, Total Reward: [-121.92174]\n",
            "Episode 179/200, Total Reward: [-579.0311]\n",
            "Episode 180/200, Total Reward: [-125.91461]\n",
            "Episode 181/200, Total Reward: [-126.471725]\n",
            "Episode 182/200, Total Reward: [-364.01962]\n",
            "Episode 183/200, Total Reward: [-124.63465]\n",
            "Episode 184/200, Total Reward: [-123.87585]\n",
            "Episode 185/200, Total Reward: [-243.57642]\n",
            "Episode 186/200, Total Reward: [-127.33435]\n",
            "Episode 187/200, Total Reward: [-356.542]\n",
            "Episode 188/200, Total Reward: [-245.07571]\n",
            "Episode 189/200, Total Reward: [-127.769485]\n",
            "Episode 190/200, Total Reward: [-592.7855]\n",
            "Episode 191/200, Total Reward: [-124.32619]\n",
            "Episode 192/200, Total Reward: [-365.43698]\n",
            "Episode 193/200, Total Reward: [-358.26172]\n",
            "Episode 194/200, Total Reward: [-244.87958]\n",
            "Episode 195/200, Total Reward: [-355.43988]\n",
            "Episode 196/200, Total Reward: [-0.5578261]\n",
            "Episode 197/200, Total Reward: [-124.25115]\n",
            "Episode 198/200, Total Reward: [-485.17725]\n",
            "Episode 199/200, Total Reward: [-125.561615]\n",
            "Episode 200/200, Total Reward: [-122.36261]\n"
          ]
        },
        {
          "output_type": "display_data",
          "data": {
            "text/plain": [
              "<Figure size 640x480 with 1 Axes>"
            ],
            "image/png": "[encoded data removed]"
          },
          "metadata": {}
        }
      ]
    },
    {
      "cell_type": "code",
      "source": [
        "# Save the actor and critic models in Keras format\n",
        "actor_model.save(\"ddpg_actor_model.keras\")\n",
        "critic_model.save(\"ddpg_critic_model.keras\")\n"
      ],
      "metadata": {
        "id": "-bqmdhoKDOl1"
      },
      "execution_count": 15,
      "outputs": []
    },
    {
      "cell_type": "code",
      "source": [
        "# Test the trained agent without noise\n",
        "num_test_episodes = 10\n",
        "for episode in range(num_test_episodes):\n",
        "    state = env.reset()\n",
        "    episode_reward = 0\n",
        "    done = False\n",
        "\n",
        "    while not done:\n",
        "        # Select action using the trained policy without noise\n",
        "        action = agent.policy(state)\n",
        "        action = np.clip(action, env.action_space.low, env.action_space.high)\n",
        "\n",
        "        # Take action in the environment\n",
        "        next_state, reward, done, _ = env.step([action])\n",
        "\n",
        "        # Update state and accumulate reward\n",
        "        state = next_state\n",
        "        episode_reward += reward\n",
        "\n",
        "    print(f\"Test Episode {episode + 1}/{num_test_episodes}, Total Reward: {episode_reward}\")\n"
      ],
      "metadata": {
        "colab": {
          "base_uri": "https://localhost:8080/"
        },
        "id": "Rw3Yg59IDlrn",
        "outputId": "f09303c7-bc45-47c6-ece0-46bf4256d2fa"
      },
      "execution_count": 16,
      "outputs": [
        {
          "output_type": "stream",
          "name": "stdout",
          "text": [
            "Test Episode 1/10, Total Reward: [-233.18239]\n",
            "Test Episode 2/10, Total Reward: [-125.95068]\n",
            "Test Episode 3/10, Total Reward: [-245.02379]\n",
            "Test Episode 4/10, Total Reward: [-599.8194]\n",
            "Test Episode 5/10, Total Reward: [-368.67355]\n",
            "Test Episode 6/10, Total Reward: [-124.97035]\n",
            "Test Episode 7/10, Total Reward: [-241.57462]\n",
            "Test Episode 8/10, Total Reward: [-122.02011]\n",
            "Test Episode 9/10, Total Reward: [-240.48283]\n",
            "Test Episode 10/10, Total Reward: [-357.30594]\n"
          ]
        }
      ]
    }
  ]
}